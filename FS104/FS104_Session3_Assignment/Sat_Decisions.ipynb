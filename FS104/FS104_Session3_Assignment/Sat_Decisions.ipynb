{
 "cells": [
  {
   "cell_type": "markdown",
   "metadata": {},
   "source": [
    "# Exercises"
   ]
  },
  {
   "cell_type": "markdown",
   "metadata": {},
   "source": [
    "## Question 1"
   ]
  },
  {
   "cell_type": "markdown",
   "metadata": {},
   "source": [
    "**Write a program that takes input of number from user and checks whether number is positive or negative.**"
   ]
  },
  {
   "cell_type": "code",
   "execution_count": 1,
   "metadata": {},
   "outputs": [],
   "source": [
    "num = int(input(\"Please input number: \"))\n",
    "\n",
    "def checknum (num):\n",
    "    if num > 0:\n",
    "        print(\"Number is positive\")\n",
    "    elif num < 0:\n",
    "        print(\"Number is negative\")\n",
    "    else:\n",
    "        print(\"invalid input\")\n",
    "\n",
    "# checknum positive\n",
    "# checknum(1)\n",
    "\n",
    "# checknum negative\n",
    "# checknum(-1)\n",
    "\n",
    "# checknum invalid\n",
    "# checknum(-)"
   ]
  },
  {
   "cell_type": "markdown",
   "metadata": {},
   "source": [
    "## Question 2"
   ]
  },
  {
   "cell_type": "markdown",
   "metadata": {},
   "source": [
    "**Write a program that inputs a number from user and checks whether number is even or odd.**"
   ]
  },
  {
   "cell_type": "code",
   "execution_count": 22,
   "metadata": {},
   "outputs": [
    {
     "output_type": "stream",
     "name": "stdout",
     "text": [
      "Even\nOdd\nEven\n"
     ]
    }
   ],
   "source": [
    "num = int(input(\"Input a number:\"))\n",
    "\n",
    "def checkevenodd (num):\n",
    "    if num % 2 != 0:\n",
    "        print(\"Odd\")\n",
    "    elif num % 2 == 0:\n",
    "        print(\"Even\")\n",
    "\n",
    "# run function\n",
    "checkevenodd(num)\n",
    "\n",
    "# check odd\n",
    "checkevenodd(1)\n",
    "\n",
    "# check even\n",
    "checkevenodd(2)"
   ]
  },
  {
   "cell_type": "markdown",
   "metadata": {},
   "source": [
    "## Question 3"
   ]
  },
  {
   "cell_type": "markdown",
   "metadata": {},
   "source": [
    "**Write a program that finds greatest among three numbers. <br> And output print with \"The largest number is (output)\"**"
   ]
  },
  {
   "cell_type": "code",
   "execution_count": 19,
   "metadata": {},
   "outputs": [
    {
     "output_type": "stream",
     "name": "stdout",
     "text": [
      "The Largest number is: 50\n"
     ]
    }
   ],
   "source": [
    "list = [] \n",
    "  \n",
    "# asking number of elements to put in list \n",
    "num = int(input(\"Enter number of elements in list: \")) \n",
    "  \n",
    "# iterating till num to append elements in list \n",
    "for i in range(1, num + 1): \n",
    "    ele = int(input(\"Enter elements: \")) \n",
    "    list.append(ele) \n",
    "      \n",
    "# print maximum element \n",
    "print(\"The Largest number is:\", max(list)) \n",
    "    "
   ]
  },
  {
   "cell_type": "markdown",
   "metadata": {},
   "source": [
    "## Question 4"
   ]
  },
  {
   "cell_type": "markdown",
   "metadata": {},
   "source": [
    "**You’re on a long car trip and arrive at a gas station. The next gas station is 200km away.\n",
    "Write a program to figure out if you need to buy gas here, or if you can wait for the\n",
    "next station. <br><br>\n",
    "The condition to buy gas here is if car is able to run at least 200km more <br><br>\n",
    "Ask user for input: How many litres of gas left in tank? How many km/litre is your car? <br>\n",
    "Hint: Calculate the distance your car can still run with remaining gas**\n"
   ]
  },
  {
   "cell_type": "code",
   "execution_count": 18,
   "metadata": {},
   "outputs": [
    {
     "output_type": "stream",
     "name": "stdout",
     "text": [
      "Top up required. Estimated Mileage Left:  75.0 km\n"
     ]
    }
   ],
   "source": [
    "# function\n",
    "def checktopup(gas, economy, distance):\n",
    "    remainingmileage = gas * economy\n",
    "    if remainingmileage <= distance:\n",
    "        print(\"Top up required. Estimated Mileage Left: \", remainingmileage, \"km\")\n",
    "    else:\n",
    "        print(\"Top up not required. Estimated Mileage Left: \", remainingmileage , \"km\")\n",
    "\n",
    "# inputs\n",
    "gas = float(input(\"How many litres of gas left in tank?\"))\n",
    "economy = float(input(\"What is the fuel economy of your car? km/litre.\"))\n",
    "distance = float(input(\"What is the distance left to travel?\"))\n",
    "\n",
    "# run function\n",
    "checktopup(gas, economy, distance)"
   ]
  },
  {
   "cell_type": "markdown",
   "metadata": {},
   "source": [
    "## Question 5"
   ]
  },
  {
   "cell_type": "markdown",
   "metadata": {},
   "source": [
    "**A soccer team is looking for girls from ages 10 to 12 to play on their team. Write a program to ask the user’s age and whether the user is male or female (using “m” or “f”). Display a message indicating whether the person is eligible to play on the team.\n",
    "Bonus: Make the program so that it doesn’t ask for the age unless the user is a girl.**"
   ]
  },
  {
   "cell_type": "code",
   "execution_count": 9,
   "metadata": {},
   "outputs": [],
   "source": [
    "# create function\n",
    "def checkteam():\n",
    "    # get input\n",
    "    gender = input(\"Input Gender: (m/f) \")\n",
    "    # check gender\n",
    "    if gender == \"m\":\n",
    "        print(\"You are not qualified to join.\")\n",
    "    else:\n",
    "        # get input\n",
    "        age = int(input(\"Input your age: \"))\n",
    "        # check age range\n",
    "        if 9 < age < 13:\n",
    "            print(\"You are eligible to join the team!\")\n",
    "        else:\n",
    "            print(\"You are not eligible to join. You are:\", int(age))"
   ]
  },
  {
   "cell_type": "code",
   "execution_count": 8,
   "metadata": {},
   "outputs": [
    {
     "output_type": "stream",
     "name": "stdout",
     "text": [
      "You are not eligible to join. You are  13\n"
     ]
    }
   ],
   "source": [
    "# run function\n",
    "checkteam()"
   ]
  },
  {
   "cell_type": "markdown",
   "metadata": {},
   "source": [
    "## Question 6"
   ]
  },
  {
   "cell_type": "markdown",
   "metadata": {},
   "source": [
    "**Write a program that prompts the user to enter a weight in kilograms and height in metres and then displays the BMI as well as below interpreations.** \n",
    "\n",
    "**If BMI is Below $18.5$, it is interpreted as Underweight. <br>\n",
    "If BMI is from $18.5–24.9$, it is interpreted as Normal. <br>\n",
    "If BMI is from $25.0–29.9$, it is interpreted as Overweight. <br>\n",
    "else If BMI is Above $30.0$, it is interpreted as Obese.**\n"
   ]
  },
  {
   "cell_type": "code",
   "execution_count": 12,
   "metadata": {},
   "outputs": [
    {
     "output_type": "stream",
     "name": "stdout",
     "text": [
      "Obese\n"
     ]
    }
   ],
   "source": [
    "# function\n",
    "def bmi(height, weight):\n",
    "    bmi = weight / (height * height)\n",
    "    if bmi < 18.5:\n",
    "        print(\"You are Underweight\")\n",
    "    elif 18.5 < bmi < 24.9:\n",
    "        print(\"You are Normal\")\n",
    "    elif 25.0 < bmi < 29.9:\n",
    "        print(\"You are Overweight\")\n",
    "    elif bmi > 30.0:\n",
    "        print(\"You are Obese\")\n",
    "\n",
    "# inputs\n",
    "height = float(input(\"Input Height in (m):\"))\n",
    "weight = float(input(\"Input Weight in (kg):\"))\n",
    "\n",
    "# run function\n",
    "bmi(height, weight)"
   ]
  },
  {
   "cell_type": "markdown",
   "metadata": {},
   "source": [
    "## Question 7"
   ]
  },
  {
   "cell_type": "markdown",
   "metadata": {},
   "source": [
    "**Write a program in which user enters one number and whether it is divisible by 7 (ie. remainder 0 when divide by 7) and is not a multiple of 5.**"
   ]
  },
  {
   "cell_type": "code",
   "execution_count": 13,
   "metadata": {},
   "outputs": [],
   "source": [
    "num = int(input(\"Input a number:\"))\n",
    "\n",
    "def checkseven(num):\n",
    "    if num % 7 == 0 & num % 5 != 0:\n",
    "        print(\"Divisible by 7. And not a mutiple of 5.\")\n",
    "    elif num % 5 == 0:\n",
    "        print(\"Divisible by 5.\")\n",
    "    else :\n",
    "        print(\"Not Divisible by 7.\")\n",
    "        \n",
    "# run function\n",
    "checkseven(num)"
   ]
  }
 ],
 "metadata": {
  "kernelspec": {
   "display_name": "Python 3",
   "language": "python",
   "name": "python3"
  },
  "language_info": {
   "codemirror_mode": {
    "name": "ipython",
    "version": 3
   },
   "file_extension": ".py",
   "mimetype": "text/x-python",
   "name": "python",
   "nbconvert_exporter": "python",
   "pygments_lexer": "ipython3",
   "version": "3.7.6-final"
  }
 },
 "nbformat": 4,
 "nbformat_minor": 2
}