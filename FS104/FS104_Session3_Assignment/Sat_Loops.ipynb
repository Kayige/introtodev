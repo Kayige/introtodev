{
 "cells": [
  {
   "cell_type": "markdown",
   "metadata": {},
   "source": [
    "# Exercises"
   ]
  },
  {
   "cell_type": "markdown",
   "metadata": {},
   "source": [
    "## Question 1"
   ]
  },
  {
   "cell_type": "markdown",
   "metadata": {},
   "source": [
    "**Predict the Output.**"
   ]
  },
  {
   "cell_type": "code",
   "execution_count": null,
   "metadata": {},
   "outputs": [],
   "source": [
    "for i in [1, 2, 3, 4, 5]:\n",
    "    print (\"hello\")"
   ]
  },
  {
   "cell_type": "code",
   "execution_count": null,
   "metadata": {},
   "outputs": [],
   "source": [
    "# hello\n",
    "# hello\n",
    "# hello\n",
    "# hello\n",
    "# hello"
   ]
  },
  {
   "cell_type": "markdown",
   "metadata": {},
   "source": [
    "## Question 2"
   ]
  },
  {
   "cell_type": "markdown",
   "metadata": {},
   "source": [
    "**Predict the Output.**"
   ]
  },
  {
   "cell_type": "code",
   "execution_count": null,
   "metadata": {},
   "outputs": [],
   "source": [
    "for i in [1, 2, 3, 4, 5]:\n",
    "    print (i)"
   ]
  },
  {
   "cell_type": "code",
   "execution_count": null,
   "metadata": {},
   "outputs": [],
   "source": [
    "# 1\n",
    "# 2\n",
    "# 3\n",
    "# 4\n",
    "# 5"
   ]
  },
  {
   "cell_type": "markdown",
   "metadata": {},
   "source": [
    "## Question 3"
   ]
  },
  {
   "cell_type": "markdown",
   "metadata": {},
   "source": [
    "**Predict the Output.**"
   ]
  },
  {
   "cell_type": "code",
   "execution_count": null,
   "metadata": {},
   "outputs": [],
   "source": [
    "for looper in [1, 2, 3, 4, 5]:\n",
    "    print (looper, \"times 8 =\", looper * 8)"
   ]
  },
  {
   "cell_type": "code",
   "execution_count": null,
   "metadata": {},
   "outputs": [],
   "source": [
    "# 1 times 8 = 8\n",
    "# 2 times 8 = 16\n",
    "# 3 times 8 = 24\n",
    "# 4 times 8 = 32\n",
    "# 5 times 8 = 40"
   ]
  },
  {
   "cell_type": "markdown",
   "metadata": {},
   "source": [
    "## Question 4"
   ]
  },
  {
   "cell_type": "markdown",
   "metadata": {},
   "source": [
    "**Predict the Output.**"
   ]
  },
  {
   "cell_type": "code",
   "execution_count": null,
   "metadata": {
    "scrolled": true
   },
   "outputs": [],
   "source": [
    "import time\n",
    "for i in range (5, 0, -1):         #Counts backward. \n",
    "                                     #Range ([start], [stop], [ step])\n",
    "                                    #start: Starting number of the sequence.\n",
    "                                    #stop: Generate numbers up to, but not including this number.\n",
    "                                    #step: Difference between each number in the sequence.\n",
    "    print (i)\n",
    "    time.sleep(1)                   #Waits one second\n",
    "print (\"BLAST OFF!\")"
   ]
  },
  {
   "cell_type": "code",
   "execution_count": null,
   "metadata": {},
   "outputs": [],
   "source": [
    "# 5\n",
    "# 4\n",
    "# 3\n",
    "# 2\n",
    "# 1\n",
    "# BLAST OFF!"
   ]
  },
  {
   "cell_type": "markdown",
   "metadata": {},
   "source": [
    "## Question 5"
   ]
  },
  {
   "cell_type": "markdown",
   "metadata": {},
   "source": [
    "**Predict the Output.**"
   ]
  },
  {
   "cell_type": "code",
   "execution_count": null,
   "metadata": {
    "scrolled": true
   },
   "outputs": [],
   "source": [
    "for i in range(1, 6, 2):\n",
    "    print ('Hi, Warren')"
   ]
  },
  {
   "cell_type": "code",
   "execution_count": null,
   "metadata": {},
   "outputs": [],
   "source": [
    "# Hi Warren\n",
    "# Hi Warren\n",
    "# Hi Warren"
   ]
  },
  {
   "cell_type": "markdown",
   "metadata": {},
   "source": [
    "## Question 6"
   ]
  },
  {
   "cell_type": "markdown",
   "metadata": {},
   "source": [
    "**Fill in the blank such that program prints \"Hello! How are you\" 5 times but 3rd time it prints only \"Hello!\"**"
   ]
  },
  {
   "cell_type": "code",
   "execution_count": null,
   "metadata": {},
   "outputs": [],
   "source": [
    "\n",
    "for i in range (6):\n",
    "    print ('i =', i) \n",
    "    print ('Hello!', end = \" \")   # Note: end = '' appends space instead of new line\n",
    "    if ________: \n",
    "        print()\n",
    "        continue \n",
    "    print ('How are you')"
   ]
  },
  {
   "cell_type": "code",
   "execution_count": null,
   "metadata": {},
   "outputs": [],
   "source": [
    "# if i == 3:"
   ]
  },
  {
   "cell_type": "markdown",
   "metadata": {},
   "source": [
    "## Question 7"
   ]
  },
  {
   "cell_type": "markdown",
   "metadata": {},
   "source": [
    "11. What does the following for loop output?\n"
   ]
  },
  {
   "cell_type": "code",
   "execution_count": null,
   "metadata": {
    "scrolled": true
   },
   "outputs": [],
   "source": [
    "nums = [10, 30, 20, 40]\n",
    "\n",
    "for k in range(1, 4):    # range(1,4) refers to [1,2,3]   --> k = 1, k = 2, k = 3\n",
    "    print(nums[k])       # print nums[1], nums[2], nums[3]"
   ]
  },
  {
   "cell_type": "code",
   "execution_count": null,
   "metadata": {},
   "outputs": [],
   "source": [
    "# 30\n",
    "# 20\n",
    "# 40\n",
    "\n",
    "# b"
   ]
  },
  {
   "cell_type": "markdown",
   "metadata": {},
   "source": [
    "   \n",
    "            (a) 10 (b) 30 (c) 10\n",
    "                30     20     30\n",
    "                20     40     20\n",
    "                              40    "
   ]
  },
  {
   "cell_type": "markdown",
   "metadata": {},
   "source": [
    "## Question 8"
   ]
  },
  {
   "cell_type": "markdown",
   "metadata": {},
   "source": [
    "**Write a python program to 1) ask the user the length of password and 2) generate a password randomly of given length.**"
   ]
  },
  {
   "cell_type": "markdown",
   "metadata": {},
   "source": [
    "**Step 1 import library \"random\"**"
   ]
  },
  {
   "cell_type": "code",
   "execution_count": null,
   "metadata": {},
   "outputs": [],
   "source": [
    "#import library random\n",
    "import random\n",
    "random.choice('ri39fk')"
   ]
  },
  {
   "cell_type": "markdown",
   "metadata": {},
   "source": [
    "**Combine random alphabets,numbers and special characters, and store it in a variable called password.**"
   ]
  },
  {
   "cell_type": "code",
   "execution_count": 17,
   "metadata": {},
   "outputs": [
    {
     "output_type": "execute_result",
     "data": {
      "text/plain": [
       "'xy!%9d0s$e'"
      ]
     },
     "metadata": {},
     "execution_count": 17
    }
   ],
   "source": [
    "chars = 'abcdefghijklmnopqrstuvwxyz1234567890!@#$%^&*.'\n",
    "password = ''\n",
    "\n",
    "# Take input from user.\n",
    "def get_password_length():\n",
    "    '''\n",
    "      Retrieves the length of a password\n",
    "      :returns number <class 'int'>\n",
    "    '''\n",
    "    length = input(\"How long do you want your password: \")\n",
    "    return int(length)\n",
    "\n",
    "# run password length\n",
    "length = get_password_length()\n",
    "\n",
    "# generate for loop\n",
    "def password_generator(length=length):\n",
    "    # create alphanumerical from string constants\n",
    "    printable = f'{chars}'\n",
    "\n",
    "    # convert printable from string to list and shuffle\n",
    "    printable = list(printable)\n",
    "    random.shuffle(printable)\n",
    "\n",
    "    # generate random password and convert to string\n",
    "    password = random.choices(printable, k=length)\n",
    "    password = ''.join(password)\n",
    "    return password\n",
    "\n",
    "password_generator()"
   ]
  },
  {
   "cell_type": "markdown",
   "metadata": {},
   "source": [
    "## Question 10 "
   ]
  },
  {
   "cell_type": "markdown",
   "metadata": {},
   "source": [
    "**What is the output of this code if input my_input = 0? What is the output if my_input=5?**"
   ]
  },
  {
   "cell_type": "code",
   "execution_count": null,
   "metadata": {},
   "outputs": [],
   "source": [
    "a = 1\n",
    "\n",
    "while a <= 3:\n",
    "    my_input = int (input (\"enter a no: \"))\n",
    "    if my_input == 0:\n",
    "        print (\"your input is 0\")\n",
    "        break\n",
    "    a+=1\n",
    "    print (\"looping\")\n",
    "\n",
    "print('thank you')\n",
    "\n"
   ]
  },
  {
   "cell_type": "code",
   "execution_count": null,
   "metadata": {},
   "outputs": [],
   "source": [
    "# if my_input = 0\n",
    "# your input is 0\n",
    "\n",
    "# if my_input = 5\n",
    "# thank you"
   ]
  },
  {
   "cell_type": "markdown",
   "metadata": {},
   "source": [
    "## Question 11"
   ]
  },
  {
   "cell_type": "markdown",
   "metadata": {},
   "source": [
    "**Write a Python program to count the elements in a list before it first hits a tuple.**"
   ]
  },
  {
   "cell_type": "code",
   "execution_count": 37,
   "metadata": {},
   "outputs": [
    {
     "output_type": "stream",
     "name": "stdout",
     "text": [
      "Counter:  2\n"
     ]
    }
   ],
   "source": [
    "number = [10,20,(1,2),40]\n",
    "\n",
    "counter = 0\n",
    "\n",
    "# for loop \n",
    "\n",
    "for i in number:\n",
    "    # check if element in list is tuple\n",
    "    if isinstance(i, tuple):\n",
    "        print(\"Counter: \", counter)\n",
    "        # break if tuple\n",
    "        break\n",
    "    # increment if not tuple\n",
    "    counter += 1"
   ]
  },
  {
   "cell_type": "markdown",
   "metadata": {},
   "source": [
    "## Question 12 - a revisit!"
   ]
  },
  {
   "cell_type": "markdown",
   "metadata": {},
   "source": [
    "A king played chess with his subject and his subject won. He asked the subject what he wanted in return. <br> \n",
    "The subject, being clever, asked for one grain of wheat on the first square, two grains of wheat on the second square, four grains of wheat on the third square, and so forth, doubling the amount on each next square. \n",
    "\n",
    "**Calculate how much wheat the last square would be in kg. There are 64 squares in a chess board. A grain of wheat weighs approximately $1/7,000$ of a kg.**"
   ]
  },
  {
   "cell_type": "code",
   "execution_count": 47,
   "metadata": {},
   "outputs": [
    {
     "output_type": "stream",
     "name": "stdout",
     "text": [
      "Total grain weight in kg:  1317624576693539.5\n"
     ]
    }
   ],
   "source": [
    "# first square = 1         --> 2**0\n",
    "# second square = 2        --> 2**1\n",
    "# third square = 2*2 = 4   --> 2**2\n",
    "# fourth square = 2*2*2 = 8 --> 2**3 .......\n",
    "\n",
    "total_grains=2**63\n",
    "total_weight =total_grains/7000\n",
    "print (\"Total grain weight in kg: \", total_weight)\n"
   ]
  },
  {
   "cell_type": "markdown",
   "metadata": {},
   "source": [
    "**Now, using your knowledge in loops how do you calculate total grains?**"
   ]
  },
  {
   "cell_type": "code",
   "execution_count": 55,
   "metadata": {},
   "outputs": [
    {
     "output_type": "stream",
     "name": "stdout",
     "text": [
      "Total grain weight in kg:  0.00014285714285714287\nTotal grain weight in kg:  0.00028571428571428574\nTotal grain weight in kg:  0.0005714285714285715\nTotal grain weight in kg:  0.001142857142857143\nTotal grain weight in kg:  0.002285714285714286\nTotal grain weight in kg:  0.004571428571428572\nTotal grain weight in kg:  0.009142857142857144\nTotal grain weight in kg:  0.018285714285714287\nTotal grain weight in kg:  0.036571428571428574\nTotal grain weight in kg:  0.07314285714285715\nTotal grain weight in kg:  0.1462857142857143\nTotal grain weight in kg:  0.2925714285714286\nTotal grain weight in kg:  0.5851428571428572\nTotal grain weight in kg:  1.1702857142857144\nTotal grain weight in kg:  2.3405714285714287\nTotal grain weight in kg:  4.6811428571428575\nTotal grain weight in kg:  9.362285714285715\nTotal grain weight in kg:  18.72457142857143\nTotal grain weight in kg:  37.44914285714286\nTotal grain weight in kg:  74.89828571428572\nTotal grain weight in kg:  149.79657142857144\nTotal grain weight in kg:  299.5931428571429\nTotal grain weight in kg:  599.1862857142858\nTotal grain weight in kg:  1198.3725714285715\nTotal grain weight in kg:  2396.745142857143\nTotal grain weight in kg:  4793.490285714286\nTotal grain weight in kg:  9586.980571428572\nTotal grain weight in kg:  19173.961142857144\nTotal grain weight in kg:  38347.92228571429\nTotal grain weight in kg:  76695.84457142858\nTotal grain weight in kg:  153391.68914285715\nTotal grain weight in kg:  306783.3782857143\nTotal grain weight in kg:  613566.7565714286\nTotal grain weight in kg:  1227133.5131428572\nTotal grain weight in kg:  2454267.0262857145\nTotal grain weight in kg:  4908534.052571429\nTotal grain weight in kg:  9817068.105142858\nTotal grain weight in kg:  19634136.210285716\nTotal grain weight in kg:  39268272.42057143\nTotal grain weight in kg:  78536544.84114286\nTotal grain weight in kg:  157073089.68228573\nTotal grain weight in kg:  314146179.36457145\nTotal grain weight in kg:  628292358.7291429\nTotal grain weight in kg:  1256584717.4582858\nTotal grain weight in kg:  2513169434.9165716\nTotal grain weight in kg:  5026338869.833143\nTotal grain weight in kg:  10052677739.666286\nTotal grain weight in kg:  20105355479.332573\nTotal grain weight in kg:  40210710958.665146\nTotal grain weight in kg:  80421421917.33029\nTotal grain weight in kg:  160842843834.66058\nTotal grain weight in kg:  321685687669.32117\nTotal grain weight in kg:  643371375338.6423\nTotal grain weight in kg:  1286742750677.2847\nTotal grain weight in kg:  2573485501354.5693\nTotal grain weight in kg:  5146971002709.139\nTotal grain weight in kg:  10293942005418.277\nTotal grain weight in kg:  20587884010836.555\nTotal grain weight in kg:  41175768021673.11\nTotal grain weight in kg:  82351536043346.22\nTotal grain weight in kg:  164703072086692.44\nTotal grain weight in kg:  329406144173384.9\nTotal grain weight in kg:  658812288346769.8\nTotal grain weight in kg:  1317624576693539.5\n"
     ]
    }
   ],
   "source": [
    "for i in range(64):\n",
    "    total_grains= 2 ** i\n",
    "    total_weight = total_grains/7000\n",
    "    print(\"Total grain weight in kg: \", total_weight)"
   ]
  },
  {
   "cell_type": "code",
   "execution_count": null,
   "metadata": {},
   "outputs": [],
   "source": []
  }
 ],
 "metadata": {
  "kernelspec": {
   "display_name": "Python 3",
   "language": "python",
   "name": "python3"
  },
  "language_info": {
   "codemirror_mode": {
    "name": "ipython",
    "version": 3
   },
   "file_extension": ".py",
   "mimetype": "text/x-python",
   "name": "python",
   "nbconvert_exporter": "python",
   "pygments_lexer": "ipython3",
   "version": "3.7.6-final"
  }
 },
 "nbformat": 4,
 "nbformat_minor": 2
}