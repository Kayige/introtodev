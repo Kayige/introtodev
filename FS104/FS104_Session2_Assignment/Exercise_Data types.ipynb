{
 "cells": [
  {
   "cell_type": "markdown",
   "metadata": {},
   "source": [
    "# Exercise"
   ]
  },
  {
   "cell_type": "markdown",
   "metadata": {},
   "source": [
    "## Question 1"
   ]
  },
  {
   "source": [
    "**Use *float()* to create a number from a string like '12.34'. Make sure the result is really a number!**\n",
    "\n"
   ],
   "cell_type": "code",
   "metadata": {},
   "execution_count": null,
   "outputs": []
  },
  {
   "cell_type": "code",
   "execution_count": 13,
   "metadata": {},
   "outputs": [
    {
     "output_type": "stream",
     "name": "stdout",
     "text": [
      "<class 'str'>\n12.34\n<class 'float'>\n"
     ]
    }
   ],
   "source": [
    "a = \"12.34\"\n",
    "\n",
    "# check type of a\n",
    "print(type(a))\n",
    "\n",
    "# cast float() to a\n",
    "print(float(a))\n",
    "\n",
    "# check float(a) type\n",
    "print(type(float(a)))"
   ]
  },
  {
   "cell_type": "markdown",
   "metadata": {},
   "source": [
    "## Question 2"
   ]
  },
  {
   "source": [
    "**Try using *int()* to create an integer from a decimal number like $56.78$. Did the answer get rounded up or down?**"
   ],
   "cell_type": "code",
   "metadata": {},
   "execution_count": null,
   "outputs": []
  },
  {
   "cell_type": "code",
   "execution_count": null,
   "metadata": {},
   "outputs": [],
   "source": [
    "a = 56.78\n",
    "\n",
    "# check type of original a\n",
    "print(type(a))\n",
    "\n",
    "# cast int() to a\n",
    "print(int(a))\n",
    "\n",
    "# type of int(a)\n",
    "print(type(int(a)))"
   ]
  },
  {
   "cell_type": "markdown",
   "metadata": {},
   "source": [
    "## Question 3"
   ]
  },
  {
   "cell_type": "markdown",
   "metadata": {},
   "source": [
    "**Try using *int()* to create an integer from a string. Make sure the result is really an integer!**"
   ]
  },
  {
   "cell_type": "code",
   "execution_count": 14,
   "metadata": {},
   "outputs": [
    {
     "output_type": "stream",
     "name": "stdout",
     "text": [
      "<class 'str'>\n999\n<class 'int'>\n"
     ]
    }
   ],
   "source": [
    "a = \"999\"\n",
    "\n",
    "# check type of a\n",
    "print(type(a))\n",
    "\n",
    "# cast int() to a\n",
    "print(int(a))\n",
    "\n",
    "# check cast of a\n",
    "print(type(int(a)))"
   ]
  },
  {
   "cell_type": "markdown",
   "metadata": {},
   "source": [
    "## Question 4"
   ]
  },
  {
   "cell_type": "markdown",
   "metadata": {},
   "source": [
    "**Which of the following are valid string literals in Python.**\n",
    "\n",
    "**(a) \"Hello\"<br> (b) 'hello'<br> (c) \"Hello'<br> (d) 'Hello there'<br> (e) ''**"
   ]
  },
  {
   "cell_type": "code",
   "execution_count": 18,
   "metadata": {},
   "outputs": [
    {
     "output_type": "stream",
     "name": "stdout",
     "text": [
      "a : <class 'str'>\nb : <class 'str'>\nd : <class 'str'>\ne : <class 'str'>\n"
     ]
    }
   ],
   "source": [
    "a = \"Hello\" # returns str\n",
    "b = 'hello' # returns str\n",
    "# c = \"Hello' // returns SyntaxError: EOL while scanning string literal\n",
    "d = 'Hello there' # returns str\n",
    "e = '' # returns str\n",
    "\n",
    "print(\"a :\", type(a))\n",
    "print(\"b :\", type(b))\n",
    "# print(type(c))\n",
    "print(\"d :\", type(d))\n",
    "print(\"e :\", type(e))"
   ]
  },
  {
   "cell_type": "code",
   "execution_count": null,
   "metadata": {},
   "outputs": [],
   "source": []
  }
 ],
 "metadata": {
  "kernelspec": {
   "display_name": "Python 3",
   "language": "python",
   "name": "python3"
  },
  "language_info": {
   "codemirror_mode": {
    "name": "ipython",
    "version": 3
   },
   "file_extension": ".py",
   "mimetype": "text/x-python",
   "name": "python",
   "nbconvert_exporter": "python",
   "pygments_lexer": "ipython3",
   "version": "3.7.6-final"
  }
 },
 "nbformat": 4,
 "nbformat_minor": 2
}